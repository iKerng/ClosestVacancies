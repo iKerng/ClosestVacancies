{
 "cells": [
  {
   "cell_type": "code",
   "execution_count": 15,
   "metadata": {
    "collapsed": true
   },
   "outputs": [],
   "source": [
    "import sqlite3 as sql\n",
    "from os import path, getcwd\n",
    "import pandas as pd\n",
    "import requests as rq\n",
    "# from final_project import hh_token\n",
    "import bs4 as bs\n",
    "# !pip install beautifulsoup4\n",
    "from sklearn.feature_extraction.text import TfidfTransformer, TfidfVectorizer"
   ]
  },
  {
   "cell_type": "code",
   "execution_count": 16,
   "outputs": [],
   "source": [
    "# token = hh_token.get_token()\n",
    "# headers = {'Authorization': token}\n",
    "# api_hh = 'https://api.hh.ru/'\n",
    "# ls_dicts = ls_dicts = ['areas', 'employment', 'experience', 'schedule', 'vacancy_type', 'working_days', 'currency', 'employer_type']\n",
    "db_path = path.abspath(getcwd()) + '\\\\ClosestVacancies\\\\data\\\\vacancies.db'\n",
    "connect = sql.connect(db_path)\n",
    "cursor = connect.cursor()\n",
    "# all_tables = pd.DataFrame(connect.execute(\"SELECT NAME FROM SQLITE_MASTER WHERE TYPE = 'table';\")\n",
    "#                           , columns=['table_name'])['table_name'].to_list()\n",
    "# df_areas = pd.DataFrame()\n",
    "# areas = rq.get(url=api_hh + 'areas', headers=headers).json()[0].get('areas')\n",
    "# areas[0]"
   ],
   "metadata": {
    "collapsed": false,
    "pycharm": {
     "name": "#%%\n"
    }
   }
  },
  {
   "cell_type": "code",
   "execution_count": 17,
   "outputs": [
    {
     "data": {
      "text/plain": "                                                       name  \\\nid                                                            \n55485778            Data Scientist (Marketplace Efficiency)   \n55865645                             Аналитик (Монетизация)   \n54899635                          Senior Python-разработчик   \n55318384  Senior Data Scientist по направлению биоинформ...   \n50996908          Senior Research Engineer / Data Scientist   \n...                                                     ...   \n55064629                              Data Scientist в Сбер   \n55051085                       Middle/Senior Data Scientist   \n55049120             Data Scientist - Risk Models Developer   \n55046966             Junior Data Scientist for NLP (Python)   \n55046716                                       IT Recruiter   \n\n                                     url  \\\nid                                         \n55485778  https://hh.ru/vacancy/55485778   \n55865645  https://hh.ru/vacancy/55865645   \n54899635  https://hh.ru/vacancy/54899635   \n55318384  https://hh.ru/vacancy/55318384   \n50996908  https://hh.ru/vacancy/50996908   \n...                                  ...   \n55064629  https://hh.ru/vacancy/55064629   \n55051085  https://hh.ru/vacancy/55051085   \n55049120  https://hh.ru/vacancy/55049120   \n55046966  https://hh.ru/vacancy/55046966   \n55046716  https://hh.ru/vacancy/55046716   \n\n                                                  api_url  \\\nid                                                          \n55485778  https://api.hh.ru/vacancies/55485778?host=hh.ru   \n55865645  https://api.hh.ru/vacancies/55865645?host=hh.ru   \n54899635  https://api.hh.ru/vacancies/54899635?host=hh.ru   \n55318384  https://api.hh.ru/vacancies/55318384?host=hh.ru   \n50996908  https://api.hh.ru/vacancies/50996908?host=hh.ru   \n...                                                   ...   \n55064629  https://api.hh.ru/vacancies/55064629?host=hh.ru   \n55051085  https://api.hh.ru/vacancies/55051085?host=hh.ru   \n55049120  https://api.hh.ru/vacancies/55049120?host=hh.ru   \n55046966  https://api.hh.ru/vacancies/55046966?host=hh.ru   \n55046716  https://api.hh.ru/vacancies/55046716?host=hh.ru   \n\n                                                description  \nid                                                           \n55485778  <p><strong>Наш отдел Data Science активно разв...  \n55865645  <p>Отдел клиентской аналитики Delivery Club ст...  \n54899635  <p>Предлагаю рассмотреть вакансию <strong>Seni...  \n55318384  <p><strong>Обязанности:</strong></p> <p>Мы ище...  \n50996908  <ul> <li>Сколтех (Skoltech) — международный ун...  \n...                                                     ...  \n55064629  <p>Команда по работе с данными Сбера сильно ра...  \n55051085  <p><strong>Кто мы?</strong></p> <p>Мы — динами...  \n55049120  <p>Мы ищем data scientist&#39;а в команду разр...  \n55046966  <p><strong>Алгоритмические Системы</strong> - ...  \n55046716  <p>Ищем коллегу в нашу уютную профессиональную...  \n\n[161 rows x 4 columns]",
      "text/html": "<div>\n<style scoped>\n    .dataframe tbody tr th:only-of-type {\n        vertical-align: middle;\n    }\n\n    .dataframe tbody tr th {\n        vertical-align: top;\n    }\n\n    .dataframe thead th {\n        text-align: right;\n    }\n</style>\n<table border=\"1\" class=\"dataframe\">\n  <thead>\n    <tr style=\"text-align: right;\">\n      <th></th>\n      <th>name</th>\n      <th>url</th>\n      <th>api_url</th>\n      <th>description</th>\n    </tr>\n    <tr>\n      <th>id</th>\n      <th></th>\n      <th></th>\n      <th></th>\n      <th></th>\n    </tr>\n  </thead>\n  <tbody>\n    <tr>\n      <th>55485778</th>\n      <td>Data Scientist (Marketplace Efficiency)</td>\n      <td>https://hh.ru/vacancy/55485778</td>\n      <td>https://api.hh.ru/vacancies/55485778?host=hh.ru</td>\n      <td>&lt;p&gt;&lt;strong&gt;Наш отдел Data Science активно разв...</td>\n    </tr>\n    <tr>\n      <th>55865645</th>\n      <td>Аналитик (Монетизация)</td>\n      <td>https://hh.ru/vacancy/55865645</td>\n      <td>https://api.hh.ru/vacancies/55865645?host=hh.ru</td>\n      <td>&lt;p&gt;Отдел клиентской аналитики Delivery Club ст...</td>\n    </tr>\n    <tr>\n      <th>54899635</th>\n      <td>Senior Python-разработчик</td>\n      <td>https://hh.ru/vacancy/54899635</td>\n      <td>https://api.hh.ru/vacancies/54899635?host=hh.ru</td>\n      <td>&lt;p&gt;Предлагаю рассмотреть вакансию &lt;strong&gt;Seni...</td>\n    </tr>\n    <tr>\n      <th>55318384</th>\n      <td>Senior Data Scientist по направлению биоинформ...</td>\n      <td>https://hh.ru/vacancy/55318384</td>\n      <td>https://api.hh.ru/vacancies/55318384?host=hh.ru</td>\n      <td>&lt;p&gt;&lt;strong&gt;Обязанности:&lt;/strong&gt;&lt;/p&gt; &lt;p&gt;Мы ище...</td>\n    </tr>\n    <tr>\n      <th>50996908</th>\n      <td>Senior Research Engineer / Data Scientist</td>\n      <td>https://hh.ru/vacancy/50996908</td>\n      <td>https://api.hh.ru/vacancies/50996908?host=hh.ru</td>\n      <td>&lt;ul&gt; &lt;li&gt;Сколтех (Skoltech) — международный ун...</td>\n    </tr>\n    <tr>\n      <th>...</th>\n      <td>...</td>\n      <td>...</td>\n      <td>...</td>\n      <td>...</td>\n    </tr>\n    <tr>\n      <th>55064629</th>\n      <td>Data Scientist в Сбер</td>\n      <td>https://hh.ru/vacancy/55064629</td>\n      <td>https://api.hh.ru/vacancies/55064629?host=hh.ru</td>\n      <td>&lt;p&gt;Команда по работе с данными Сбера сильно ра...</td>\n    </tr>\n    <tr>\n      <th>55051085</th>\n      <td>Middle/Senior Data Scientist</td>\n      <td>https://hh.ru/vacancy/55051085</td>\n      <td>https://api.hh.ru/vacancies/55051085?host=hh.ru</td>\n      <td>&lt;p&gt;&lt;strong&gt;Кто мы?&lt;/strong&gt;&lt;/p&gt; &lt;p&gt;Мы — динами...</td>\n    </tr>\n    <tr>\n      <th>55049120</th>\n      <td>Data Scientist - Risk Models Developer</td>\n      <td>https://hh.ru/vacancy/55049120</td>\n      <td>https://api.hh.ru/vacancies/55049120?host=hh.ru</td>\n      <td>&lt;p&gt;Мы ищем data scientist&amp;#39;а в команду разр...</td>\n    </tr>\n    <tr>\n      <th>55046966</th>\n      <td>Junior Data Scientist for NLP (Python)</td>\n      <td>https://hh.ru/vacancy/55046966</td>\n      <td>https://api.hh.ru/vacancies/55046966?host=hh.ru</td>\n      <td>&lt;p&gt;&lt;strong&gt;Алгоритмические Системы&lt;/strong&gt; - ...</td>\n    </tr>\n    <tr>\n      <th>55046716</th>\n      <td>IT Recruiter</td>\n      <td>https://hh.ru/vacancy/55046716</td>\n      <td>https://api.hh.ru/vacancies/55046716?host=hh.ru</td>\n      <td>&lt;p&gt;Ищем коллегу в нашу уютную профессиональную...</td>\n    </tr>\n  </tbody>\n</table>\n<p>161 rows × 4 columns</p>\n</div>"
     },
     "execution_count": 17,
     "metadata": {},
     "output_type": "execute_result"
    }
   ],
   "source": [
    "df = pd.read_sql('select * from vacancies', con=connect, index_col='id')\n",
    "df"
   ],
   "metadata": {
    "collapsed": false,
    "pycharm": {
     "name": "#%%\n"
    }
   }
  },
  {
   "cell_type": "code",
   "execution_count": 19,
   "outputs": [
    {
     "name": "stdout",
     "output_type": "stream",
     "text": [
      "хочу быть data scientist, окончил школу data analytic и школу data scientist корпоративного университета сбербанка. очень хорошо знаю sql от написания сложных запросов с использование оконных функций, регулярных выражений, иерархических запросов, до pl/sql скриптов. Есть профиль с работами на github, работал со всем необходимыми библиотеками: pandas, numpy, seaborn, plotly, mathplotlib, sklearn, есть базовые работы с deep learning на MNIST, есть опыт в работе с библиотеками для NLP: TF-IDF, word2vec, BERT, SBERT. Имею огромное желание развиваться направлении DA и DS\n"
     ]
    },
    {
     "data": {
      "text/plain": "                                                       name  \\\nid                                                            \n55485778            Data Scientist (Marketplace Efficiency)   \n55865645                             Аналитик (Монетизация)   \n54899635                          Senior Python-разработчик   \n55318384  Senior Data Scientist по направлению биоинформ...   \n50996908          Senior Research Engineer / Data Scientist   \n...                                                     ...   \n55064629                              Data Scientist в Сбер   \n55051085                       Middle/Senior Data Scientist   \n55049120             Data Scientist - Risk Models Developer   \n55046966             Junior Data Scientist for NLP (Python)   \n55046716                                       IT Recruiter   \n\n                                     url  \\\nid                                         \n55485778  https://hh.ru/vacancy/55485778   \n55865645  https://hh.ru/vacancy/55865645   \n54899635  https://hh.ru/vacancy/54899635   \n55318384  https://hh.ru/vacancy/55318384   \n50996908  https://hh.ru/vacancy/50996908   \n...                                  ...   \n55064629  https://hh.ru/vacancy/55064629   \n55051085  https://hh.ru/vacancy/55051085   \n55049120  https://hh.ru/vacancy/55049120   \n55046966  https://hh.ru/vacancy/55046966   \n55046716  https://hh.ru/vacancy/55046716   \n\n                                                  api_url  \\\nid                                                          \n55485778  https://api.hh.ru/vacancies/55485778?host=hh.ru   \n55865645  https://api.hh.ru/vacancies/55865645?host=hh.ru   \n54899635  https://api.hh.ru/vacancies/54899635?host=hh.ru   \n55318384  https://api.hh.ru/vacancies/55318384?host=hh.ru   \n50996908  https://api.hh.ru/vacancies/50996908?host=hh.ru   \n...                                                   ...   \n55064629  https://api.hh.ru/vacancies/55064629?host=hh.ru   \n55051085  https://api.hh.ru/vacancies/55051085?host=hh.ru   \n55049120  https://api.hh.ru/vacancies/55049120?host=hh.ru   \n55046966  https://api.hh.ru/vacancies/55046966?host=hh.ru   \n55046716  https://api.hh.ru/vacancies/55046716?host=hh.ru   \n\n                                                description  \\\nid                                                            \n55485778  <p><strong>Наш отдел Data Science активно разв...   \n55865645  <p>Отдел клиентской аналитики Delivery Club ст...   \n54899635  <p>Предлагаю рассмотреть вакансию <strong>Seni...   \n55318384  <p><strong>Обязанности:</strong></p> <p>Мы ище...   \n50996908  <ul> <li>Сколтех (Skoltech) — международный ун...   \n...                                                     ...   \n55064629  <p>Команда по работе с данными Сбера сильно ра...   \n55051085  <p><strong>Кто мы?</strong></p> <p>Мы — динами...   \n55049120  <p>Мы ищем data scientist&#39;а в команду разр...   \n55046966  <p><strong>Алгоритмические Системы</strong> - ...   \n55046716  <p>Ищем коллегу в нашу уютную профессиональную...   \n\n                                               cleared_desc  \nid                                                           \n55485778  наш отдел data science активно развивается, и ...  \n55865645  отдел клиентской аналитики delivery club стави...  \n54899635  предлагаю рассмотреть вакансию senior python-р...  \n55318384  обязанности: мы ищем опытного, талантливого ис...  \n50996908   сколтех (skoltech) — международный университе...  \n...                                                     ...  \n55064629  команда по работе с данными сбера сильно расши...  \n55051085  кто мы? мы — динамичная компания финтех и it-э...  \n55049120  мы ищем data scientist'а в команду разработки ...  \n55046966  алгоритмические системы - это продуктовая комп...  \n55046716  ищем коллегу в нашу уютную профессиональную ко...  \n\n[161 rows x 5 columns]",
      "text/html": "<div>\n<style scoped>\n    .dataframe tbody tr th:only-of-type {\n        vertical-align: middle;\n    }\n\n    .dataframe tbody tr th {\n        vertical-align: top;\n    }\n\n    .dataframe thead th {\n        text-align: right;\n    }\n</style>\n<table border=\"1\" class=\"dataframe\">\n  <thead>\n    <tr style=\"text-align: right;\">\n      <th></th>\n      <th>name</th>\n      <th>url</th>\n      <th>api_url</th>\n      <th>description</th>\n      <th>cleared_desc</th>\n    </tr>\n    <tr>\n      <th>id</th>\n      <th></th>\n      <th></th>\n      <th></th>\n      <th></th>\n      <th></th>\n    </tr>\n  </thead>\n  <tbody>\n    <tr>\n      <th>55485778</th>\n      <td>Data Scientist (Marketplace Efficiency)</td>\n      <td>https://hh.ru/vacancy/55485778</td>\n      <td>https://api.hh.ru/vacancies/55485778?host=hh.ru</td>\n      <td>&lt;p&gt;&lt;strong&gt;Наш отдел Data Science активно разв...</td>\n      <td>наш отдел data science активно развивается, и ...</td>\n    </tr>\n    <tr>\n      <th>55865645</th>\n      <td>Аналитик (Монетизация)</td>\n      <td>https://hh.ru/vacancy/55865645</td>\n      <td>https://api.hh.ru/vacancies/55865645?host=hh.ru</td>\n      <td>&lt;p&gt;Отдел клиентской аналитики Delivery Club ст...</td>\n      <td>отдел клиентской аналитики delivery club стави...</td>\n    </tr>\n    <tr>\n      <th>54899635</th>\n      <td>Senior Python-разработчик</td>\n      <td>https://hh.ru/vacancy/54899635</td>\n      <td>https://api.hh.ru/vacancies/54899635?host=hh.ru</td>\n      <td>&lt;p&gt;Предлагаю рассмотреть вакансию &lt;strong&gt;Seni...</td>\n      <td>предлагаю рассмотреть вакансию senior python-р...</td>\n    </tr>\n    <tr>\n      <th>55318384</th>\n      <td>Senior Data Scientist по направлению биоинформ...</td>\n      <td>https://hh.ru/vacancy/55318384</td>\n      <td>https://api.hh.ru/vacancies/55318384?host=hh.ru</td>\n      <td>&lt;p&gt;&lt;strong&gt;Обязанности:&lt;/strong&gt;&lt;/p&gt; &lt;p&gt;Мы ище...</td>\n      <td>обязанности: мы ищем опытного, талантливого ис...</td>\n    </tr>\n    <tr>\n      <th>50996908</th>\n      <td>Senior Research Engineer / Data Scientist</td>\n      <td>https://hh.ru/vacancy/50996908</td>\n      <td>https://api.hh.ru/vacancies/50996908?host=hh.ru</td>\n      <td>&lt;ul&gt; &lt;li&gt;Сколтех (Skoltech) — международный ун...</td>\n      <td>сколтех (skoltech) — международный университе...</td>\n    </tr>\n    <tr>\n      <th>...</th>\n      <td>...</td>\n      <td>...</td>\n      <td>...</td>\n      <td>...</td>\n      <td>...</td>\n    </tr>\n    <tr>\n      <th>55064629</th>\n      <td>Data Scientist в Сбер</td>\n      <td>https://hh.ru/vacancy/55064629</td>\n      <td>https://api.hh.ru/vacancies/55064629?host=hh.ru</td>\n      <td>&lt;p&gt;Команда по работе с данными Сбера сильно ра...</td>\n      <td>команда по работе с данными сбера сильно расши...</td>\n    </tr>\n    <tr>\n      <th>55051085</th>\n      <td>Middle/Senior Data Scientist</td>\n      <td>https://hh.ru/vacancy/55051085</td>\n      <td>https://api.hh.ru/vacancies/55051085?host=hh.ru</td>\n      <td>&lt;p&gt;&lt;strong&gt;Кто мы?&lt;/strong&gt;&lt;/p&gt; &lt;p&gt;Мы — динами...</td>\n      <td>кто мы? мы — динамичная компания финтех и it-э...</td>\n    </tr>\n    <tr>\n      <th>55049120</th>\n      <td>Data Scientist - Risk Models Developer</td>\n      <td>https://hh.ru/vacancy/55049120</td>\n      <td>https://api.hh.ru/vacancies/55049120?host=hh.ru</td>\n      <td>&lt;p&gt;Мы ищем data scientist&amp;#39;а в команду разр...</td>\n      <td>мы ищем data scientist'а в команду разработки ...</td>\n    </tr>\n    <tr>\n      <th>55046966</th>\n      <td>Junior Data Scientist for NLP (Python)</td>\n      <td>https://hh.ru/vacancy/55046966</td>\n      <td>https://api.hh.ru/vacancies/55046966?host=hh.ru</td>\n      <td>&lt;p&gt;&lt;strong&gt;Алгоритмические Системы&lt;/strong&gt; - ...</td>\n      <td>алгоритмические системы - это продуктовая комп...</td>\n    </tr>\n    <tr>\n      <th>55046716</th>\n      <td>IT Recruiter</td>\n      <td>https://hh.ru/vacancy/55046716</td>\n      <td>https://api.hh.ru/vacancies/55046716?host=hh.ru</td>\n      <td>&lt;p&gt;Ищем коллегу в нашу уютную профессиональную...</td>\n      <td>ищем коллегу в нашу уютную профессиональную ко...</td>\n    </tr>\n  </tbody>\n</table>\n<p>161 rows × 5 columns</p>\n</div>"
     },
     "execution_count": 19,
     "metadata": {},
     "output_type": "execute_result"
    }
   ],
   "source": [
    "df['cleared_desc'] = df['description'].apply(lambda x: (bs.BeautifulSoup(x).get_text()).lower())\n",
    "user_text = 'хочу быть data scientist, окончил школу data analytic и школу data scientist ' \\\n",
    "            'корпоративного университета сбербанка. очень хорошо знаю sql от написания сложных запросов ' \\\n",
    "            'с использование оконных функций, регулярных выражений, иерархических запросов, до pl/sql скриптов. ' \\\n",
    "            'Есть профиль с работами на github, работал со всем необходимыми библиотеками: pandas, numpy, ' \\\n",
    "            'seaborn, plotly, mathplotlib, sklearn, есть базовые работы с deep learning на MNIST, есть опыт в работе ' \\\n",
    "            'с библиотеками для NLP: TF-IDF, word2vec, BERT, SBERT. Имею огромное желание развиваться направлении DA и ' \\\n",
    "            'DS'\n",
    "print(user_text)\n",
    "df"
   ],
   "metadata": {
    "collapsed": false,
    "pycharm": {
     "name": "#%%\n"
    }
   }
  },
  {
   "cell_type": "code",
   "execution_count": null,
   "outputs": [],
   "source": [
    "from nltk.tokenize import WordPunctTokenizer\n",
    "from nltk.stem import snowball\n",
    "from nltk.corpus import stopwords\n",
    "from pymorphy2 import MorphAnalyzer\n",
    "\n",
    "\n",
    "def clean_stopwords(ls_words=[]):\n",
    "    rus_stem = snowball.SnowballStemmer(language='russian')\n",
    "    morph = MorphAnalyzer()\n",
    "    ls_new = []\n",
    "    if len(ls_words) > 0:\n",
    "        for word in ls_words:\n",
    "            # приводим слово к нормальной форме\n",
    "            morphed = morph.parse(word)[0].normal_form\n",
    "            # stem_word = rus_stem.stem(morphed)\n",
    "            # отбираем слова, которые несут смысловую нагрузку\n",
    "            if morphed not in stopwords.words('russian') and morphed.isalpha():\n",
    "                ls_new.append(rus_stem.stem(morphed))\n",
    "    return ls_new\n",
    "\n",
    "def txt_transform(phrase=''):\n",
    "\n",
    "    # из комментария составляем список слов\n",
    "    ls_tokens = tokenizer.tokenize(phrase)\n",
    "    # возвращаем исходник фразы\n",
    "    return ' '.join(clean_stopwords(ls_tokens))"
   ],
   "metadata": {
    "collapsed": false,
    "pycharm": {
     "name": "#%%\n"
    }
   }
  },
  {
   "cell_type": "code",
   "execution_count": null,
   "outputs": [],
   "source": [
    "from sklearn.feature_extraction.text import TfidfTransformer, TfidfVectorizer\n",
    "\n",
    "# TF-IDF\n",
    "# word2vec\n",
    "# SBERT\n"
   ],
   "metadata": {
    "collapsed": false,
    "pycharm": {
     "name": "#%%\n"
    }
   }
  }
 ],
 "metadata": {
  "kernelspec": {
   "name": "pycharm-f169a146",
   "language": "python",
   "display_name": "PyCharm (School_DA)"
  },
  "language_info": {
   "codemirror_mode": {
    "name": "ipython",
    "version": 2
   },
   "file_extension": ".py",
   "mimetype": "text/x-python",
   "name": "python",
   "nbconvert_exporter": "python",
   "pygments_lexer": "ipython2",
   "version": "2.7.6"
  }
 },
 "nbformat": 4,
 "nbformat_minor": 0
}